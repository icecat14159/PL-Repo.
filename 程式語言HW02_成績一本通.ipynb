{
  "nbformat": 4,
  "nbformat_minor": 0,
  "metadata": {
    "colab": {
      "provenance": [],
      "authorship_tag": "ABX9TyPnfn/p9Yx7in3qdfPIzZWk",
      "include_colab_link": true
    },
    "kernelspec": {
      "name": "python3",
      "display_name": "Python 3"
    },
    "language_info": {
      "name": "python"
    }
  },
  "cells": [
    {
      "cell_type": "markdown",
      "metadata": {
        "id": "view-in-github",
        "colab_type": "text"
      },
      "source": [
        "<a href=\"https://colab.research.google.com/github/icecat14159/PL-Repo./blob/main/%E7%A8%8B%E5%BC%8F%E8%AA%9E%E8%A8%80HW02_%E6%88%90%E7%B8%BE%E4%B8%80%E6%9C%AC%E9%80%9A.ipynb\" target=\"_parent\"><img src=\"https://colab.research.google.com/assets/colab-badge.svg\" alt=\"Open In Colab\"/></a>"
      ]
    },
    {
      "cell_type": "code",
      "source": [
        "!pip install gspread gradio pandas --quiet"
      ],
      "metadata": {
        "id": "st-LBU9-LZ4Q"
      },
      "execution_count": 9,
      "outputs": []
    },
    {
      "cell_type": "code",
      "source": [
        "# ---------------- 模組導入 ----------------\n",
        "import gspread\n",
        "from google.colab import auth\n",
        "from google.auth import default\n",
        "import pandas as pd\n",
        "import gradio as gr\n",
        "import google.generativeai as genai\n",
        "from datetime import datetime"
      ],
      "metadata": {
        "id": "WFICU3TDPmMv"
      },
      "execution_count": 11,
      "outputs": []
    },
    {
      "cell_type": "code",
      "source": [
        "# ---------------- 授權 Google Sheet ----------------\n",
        "auth.authenticate_user()\n",
        "creds, _ = default()\n",
        "gc = gspread.authorize(creds)\n",
        "\n",
        "sheet_url = \"https://docs.google.com/spreadsheets/d/1NKTJvXrINjsxb3I80B_2wYTDcc-wRDMosUcD0P4qlVo/edit?usp=sharing\"\n",
        "worksheet = gc.open_by_url(sheet_url).sheet1"
      ],
      "metadata": {
        "id": "D7AgjQODPpmp"
      },
      "execution_count": 12,
      "outputs": []
    },
    {
      "cell_type": "code",
      "source": [
        "# ---------------- Gemini 設定 ----------------\n",
        "from google.colab import userdata\n",
        "GOOGLE_API_KEY = userdata.get('GOOGLE_API_KEY')\n",
        "genai.configure(api_key=GOOGLE_API_KEY)\n",
        "gemini_model = genai.GenerativeModel('models/gemini-1.5-flash-latest')"
      ],
      "metadata": {
        "id": "S1PfFn7MPs0u"
      },
      "execution_count": 14,
      "outputs": []
    },
    {
      "cell_type": "code",
      "source": [
        "# ---------------- 功能定義 ----------------\n",
        "def read_data():\n",
        "    \"\"\"讀取目前資料\"\"\"\n",
        "    df = pd.DataFrame(worksheet.get_all_records())\n",
        "    if df.empty:\n",
        "        return \"目前無資料\"\n",
        "    return df\n",
        "\n",
        "def add_record(name, sid, hw1, hw2, mid, fin):\n",
        "    \"\"\"新增學生成績，並自動計算總分與平均\"\"\"\n",
        "    try:\n",
        "        scores = [float(hw1), float(hw2), float(mid), float(fin)]\n",
        "        total = sum(scores)\n",
        "        avg = total / len(scores)\n",
        "    except ValueError:\n",
        "        return \"成績必須為數字\"\n",
        "\n",
        "    new_row = [name, sid, hw1, hw2, mid, fin, total, round(avg, 2)]\n",
        "    worksheet.append_row(new_row)\n",
        "    return f\"已新增 {name}（學號:{sid}），平均 {round(avg,2)} 分\"\n",
        "\n",
        "def delete_record(index):\n",
        "    \"\"\"刪除指定筆資料\"\"\"\n",
        "    df = pd.DataFrame(worksheet.get_all_records())\n",
        "    if df.empty:\n",
        "        return \"無資料可刪除\"\n",
        "    if index < 1 or index > len(df):\n",
        "        return \"索引超出範圍\"\n",
        "    worksheet.delete_rows(index + 1)\n",
        "    return f\"已刪除第 {index} 筆資料\"\n",
        "\n",
        "def modify_record(index, name, sid, hw1, hw2, mid, fin):\n",
        "    \"\"\"修改指定筆資料\"\"\"\n",
        "    df = pd.DataFrame(worksheet.get_all_records())\n",
        "    if df.empty:\n",
        "        return \"無資料可修改\"\n",
        "    if index < 1 or index > len(df):\n",
        "        return \"索引超出範圍\"\n",
        "    try:\n",
        "        scores = [float(hw1), float(hw2), float(mid), float(fin)]\n",
        "        total = sum(scores)\n",
        "        avg = total / len(scores)\n",
        "    except ValueError:\n",
        "        return \"成績必須為數字\"\n",
        "    worksheet.update(f\"A{index+1}:H{index+1}\", [[name, sid, hw1, hw2, mid, fin, total, round(avg,2)]])\n",
        "    return f\"已修改第 {index} 筆資料\"\n",
        "\n",
        "def ai_summary():\n",
        "    \"\"\"使用 Gemini 產生成績總結，並寫回試算表\"\"\"\n",
        "    df = pd.DataFrame(worksheet.get_all_records())\n",
        "    if df.empty:\n",
        "        return \"目前無資料\"\n",
        "    text_data = df.to_string(index=False)\n",
        "    prompt = f\"以下是學生的成績資料（姓名、學號、作業1、作業2、期中、期末、總分、平均）。請以中文給出整體分析與趨勢總結：\\n\\n{text_data}\"\n",
        "    response = gemini_model.generate_content(prompt)\n",
        "    summary = response.text\n",
        "    worksheet.append_row([\"AI 總結\", \"\", \"\", \"\", \"\", \"\", \"\", summary])\n",
        "    return summary"
      ],
      "metadata": {
        "id": "DdGirKZyPvyw"
      },
      "execution_count": 15,
      "outputs": []
    },
    {
      "cell_type": "code",
      "source": [
        "ai_summary()"
      ],
      "metadata": {
        "id": "DIjSYkFOSkrN"
      },
      "execution_count": null,
      "outputs": []
    },
    {
      "cell_type": "code",
      "source": [
        "# ---------------- Gradio 介面 ----------------\n",
        "with gr.Blocks() as demo:\n",
        "    gr.Markdown(\"## 📘 作業2：成績一本通（含 Gemini AI 總結）\")\n",
        "\n",
        "    with gr.Tab(\"查看資料\"):\n",
        "        btn_view = gr.Button(\"重新讀取\")\n",
        "        out_view = gr.DataFrame()\n",
        "        btn_view.click(read_data, outputs=out_view)\n",
        "\n",
        "    with gr.Tab(\"新增資料\"):\n",
        "        name_in = gr.Textbox(label=\"學生姓名\")\n",
        "        sid_in = gr.Textbox(label=\"學生學號\")\n",
        "        hw1_in = gr.Number(label=\"作業1\")\n",
        "        hw2_in = gr.Number(label=\"作業2\")\n",
        "        mid_in = gr.Number(label=\"期中考\")\n",
        "        fin_in = gr.Number(label=\"期末考\")\n",
        "        btn_add = gr.Button(\"新增\")\n",
        "        out_add = gr.Textbox(label=\"結果\")\n",
        "        btn_add.click(add_record, inputs=[name_in, sid_in, hw1_in, hw2_in, mid_in, fin_in], outputs=out_add)\n",
        "\n",
        "    with gr.Tab(\"修改資料\"):\n",
        "        idx_m = gr.Number(label=\"第幾筆（從1開始）\", precision=0)\n",
        "        name_m = gr.Textbox(label=\"學生姓名\")\n",
        "        sid_m = gr.Textbox(label=\"學生學號\")\n",
        "        hw1_m = gr.Number(label=\"作業1\")\n",
        "        hw2_m = gr.Number(label=\"作業2\")\n",
        "        mid_m = gr.Number(label=\"期中考\")\n",
        "        fin_m = gr.Number(label=\"期末考\")\n",
        "        btn_mod = gr.Button(\"修改\")\n",
        "        out_mod = gr.Textbox(label=\"結果\")\n",
        "        btn_mod.click(modify_record, inputs=[idx_m, name_m, sid_m, hw1_m, hw2_m, mid_m, fin_m], outputs=out_mod)\n",
        "\n",
        "    with gr.Tab(\"刪除資料\"):\n",
        "        idx_d = gr.Number(label=\"第幾筆（從1開始）\", precision=0)\n",
        "        btn_del = gr.Button(\"刪除\")\n",
        "        out_del = gr.Textbox(label=\"結果\")\n",
        "        btn_del.click(delete_record, inputs=idx_d, outputs=out_del)\n",
        "\n",
        "    with gr.Tab(\"AI 總結\"):\n",
        "        btn_sum = gr.Button(\"產生總結\")\n",
        "        out_sum = gr.Textbox(label=\"Gemini 總結結果\", lines=6)\n",
        "        btn_sum.click(ai_summary, outputs=out_sum)\n",
        "\n",
        "demo.launch(share=True)"
      ],
      "metadata": {
        "colab": {
          "base_uri": "https://localhost:8080/",
          "height": 321
        },
        "id": "ULItffqsLasn",
        "outputId": "3ce7fe09-0e9c-457e-9fe3-87e411840d47"
      },
      "execution_count": 18,
      "outputs": [
        {
          "output_type": "error",
          "ename": "KeyboardInterrupt",
          "evalue": "",
          "traceback": [
            "\u001b[0;31m---------------------------------------------------------------------------\u001b[0m",
            "\u001b[0;31mKeyboardInterrupt\u001b[0m                         Traceback (most recent call last)",
            "\u001b[0;32m/tmp/ipython-input-2125451941.py\u001b[0m in \u001b[0;36m<cell line: 0>\u001b[0;34m()\u001b[0m\n\u001b[1;32m     42\u001b[0m         \u001b[0mbtn_sum\u001b[0m\u001b[0;34m.\u001b[0m\u001b[0mclick\u001b[0m\u001b[0;34m(\u001b[0m\u001b[0mai_summary\u001b[0m\u001b[0;34m,\u001b[0m \u001b[0moutputs\u001b[0m\u001b[0;34m=\u001b[0m\u001b[0mout_sum\u001b[0m\u001b[0;34m)\u001b[0m\u001b[0;34m\u001b[0m\u001b[0;34m\u001b[0m\u001b[0m\n\u001b[1;32m     43\u001b[0m \u001b[0;34m\u001b[0m\u001b[0m\n\u001b[0;32m---> 44\u001b[0;31m \u001b[0mdemo\u001b[0m\u001b[0;34m.\u001b[0m\u001b[0mlaunch\u001b[0m\u001b[0;34m(\u001b[0m\u001b[0mshare\u001b[0m\u001b[0;34m=\u001b[0m\u001b[0;32mTrue\u001b[0m\u001b[0;34m)\u001b[0m\u001b[0;34m\u001b[0m\u001b[0;34m\u001b[0m\u001b[0m\n\u001b[0m",
            "\u001b[0;32m/usr/local/lib/python3.12/dist-packages/gradio/blocks.py\u001b[0m in \u001b[0;36mlaunch\u001b[0;34m(self, inline, inbrowser, share, debug, max_threads, auth, auth_message, prevent_thread_lock, show_error, server_name, server_port, height, width, favicon_path, ssl_keyfile, ssl_certfile, ssl_keyfile_password, ssl_verify, quiet, show_api, allowed_paths, blocked_paths, root_path, app_kwargs, state_session_capacity, share_server_address, share_server_protocol, share_server_tls_certificate, auth_dependency, max_file_size, enable_monitoring, strict_cors, node_server_name, node_port, ssr_mode, pwa, mcp_server, _frontend, i18n)\u001b[0m\n\u001b[1;32m   2673\u001b[0m             \u001b[0mself\u001b[0m\u001b[0;34m.\u001b[0m\u001b[0m_queue\u001b[0m\u001b[0;34m.\u001b[0m\u001b[0mset_server_app\u001b[0m\u001b[0;34m(\u001b[0m\u001b[0mself\u001b[0m\u001b[0;34m.\u001b[0m\u001b[0mserver_app\u001b[0m\u001b[0;34m)\u001b[0m\u001b[0;34m\u001b[0m\u001b[0;34m\u001b[0m\u001b[0m\n\u001b[1;32m   2674\u001b[0m \u001b[0;34m\u001b[0m\u001b[0m\n\u001b[0;32m-> 2675\u001b[0;31m             resp = httpx.get(\n\u001b[0m\u001b[1;32m   2676\u001b[0m                 \u001b[0;34mf\"{self.local_api_url}startup-events\"\u001b[0m\u001b[0;34m,\u001b[0m\u001b[0;34m\u001b[0m\u001b[0;34m\u001b[0m\u001b[0m\n\u001b[1;32m   2677\u001b[0m                 \u001b[0mverify\u001b[0m\u001b[0;34m=\u001b[0m\u001b[0mssl_verify\u001b[0m\u001b[0;34m,\u001b[0m\u001b[0;34m\u001b[0m\u001b[0;34m\u001b[0m\u001b[0m\n",
            "\u001b[0;32m/usr/local/lib/python3.12/dist-packages/httpx/_api.py\u001b[0m in \u001b[0;36mget\u001b[0;34m(url, params, headers, cookies, auth, proxy, follow_redirects, verify, timeout, trust_env)\u001b[0m\n\u001b[1;32m    193\u001b[0m     \u001b[0mon\u001b[0m \u001b[0mthis\u001b[0m \u001b[0mfunction\u001b[0m\u001b[0;34m,\u001b[0m \u001b[0;32mas\u001b[0m\u001b[0;31m \u001b[0m\u001b[0;31m`\u001b[0m\u001b[0mGET\u001b[0m\u001b[0;31m`\u001b[0m \u001b[0mrequests\u001b[0m \u001b[0mshould\u001b[0m \u001b[0;32mnot\u001b[0m \u001b[0minclude\u001b[0m \u001b[0ma\u001b[0m \u001b[0mrequest\u001b[0m \u001b[0mbody\u001b[0m\u001b[0;34m.\u001b[0m\u001b[0;34m\u001b[0m\u001b[0;34m\u001b[0m\u001b[0m\n\u001b[1;32m    194\u001b[0m     \"\"\"\n\u001b[0;32m--> 195\u001b[0;31m     return request(\n\u001b[0m\u001b[1;32m    196\u001b[0m         \u001b[0;34m\"GET\"\u001b[0m\u001b[0;34m,\u001b[0m\u001b[0;34m\u001b[0m\u001b[0;34m\u001b[0m\u001b[0m\n\u001b[1;32m    197\u001b[0m         \u001b[0murl\u001b[0m\u001b[0;34m,\u001b[0m\u001b[0;34m\u001b[0m\u001b[0;34m\u001b[0m\u001b[0m\n",
            "\u001b[0;32m/usr/local/lib/python3.12/dist-packages/httpx/_api.py\u001b[0m in \u001b[0;36mrequest\u001b[0;34m(method, url, params, content, data, files, json, headers, cookies, auth, proxy, timeout, follow_redirects, verify, trust_env)\u001b[0m\n\u001b[1;32m    100\u001b[0m     \u001b[0;31m`\u001b[0m\u001b[0;31m`\u001b[0m\u001b[0;31m`\u001b[0m\u001b[0;34m\u001b[0m\u001b[0;34m\u001b[0m\u001b[0m\n\u001b[1;32m    101\u001b[0m     \"\"\"\n\u001b[0;32m--> 102\u001b[0;31m     with Client(\n\u001b[0m\u001b[1;32m    103\u001b[0m         \u001b[0mcookies\u001b[0m\u001b[0;34m=\u001b[0m\u001b[0mcookies\u001b[0m\u001b[0;34m,\u001b[0m\u001b[0;34m\u001b[0m\u001b[0;34m\u001b[0m\u001b[0m\n\u001b[1;32m    104\u001b[0m         \u001b[0mproxy\u001b[0m\u001b[0;34m=\u001b[0m\u001b[0mproxy\u001b[0m\u001b[0;34m,\u001b[0m\u001b[0;34m\u001b[0m\u001b[0;34m\u001b[0m\u001b[0m\n",
            "\u001b[0;32m/usr/local/lib/python3.12/dist-packages/httpx/_client.py\u001b[0m in \u001b[0;36m__init__\u001b[0;34m(self, auth, params, headers, cookies, verify, cert, trust_env, http1, http2, proxy, mounts, timeout, follow_redirects, limits, max_redirects, event_hooks, base_url, transport, default_encoding)\u001b[0m\n\u001b[1;32m    686\u001b[0m         \u001b[0mproxy_map\u001b[0m \u001b[0;34m=\u001b[0m \u001b[0mself\u001b[0m\u001b[0;34m.\u001b[0m\u001b[0m_get_proxy_map\u001b[0m\u001b[0;34m(\u001b[0m\u001b[0mproxy\u001b[0m\u001b[0;34m,\u001b[0m \u001b[0mallow_env_proxies\u001b[0m\u001b[0;34m)\u001b[0m\u001b[0;34m\u001b[0m\u001b[0;34m\u001b[0m\u001b[0m\n\u001b[1;32m    687\u001b[0m \u001b[0;34m\u001b[0m\u001b[0m\n\u001b[0;32m--> 688\u001b[0;31m         self._transport = self._init_transport(\n\u001b[0m\u001b[1;32m    689\u001b[0m             \u001b[0mverify\u001b[0m\u001b[0;34m=\u001b[0m\u001b[0mverify\u001b[0m\u001b[0;34m,\u001b[0m\u001b[0;34m\u001b[0m\u001b[0;34m\u001b[0m\u001b[0m\n\u001b[1;32m    690\u001b[0m             \u001b[0mcert\u001b[0m\u001b[0;34m=\u001b[0m\u001b[0mcert\u001b[0m\u001b[0;34m,\u001b[0m\u001b[0;34m\u001b[0m\u001b[0;34m\u001b[0m\u001b[0m\n",
            "\u001b[0;32m/usr/local/lib/python3.12/dist-packages/httpx/_client.py\u001b[0m in \u001b[0;36m_init_transport\u001b[0;34m(self, verify, cert, trust_env, http1, http2, limits, transport)\u001b[0m\n\u001b[1;32m    729\u001b[0m             \u001b[0;32mreturn\u001b[0m \u001b[0mtransport\u001b[0m\u001b[0;34m\u001b[0m\u001b[0;34m\u001b[0m\u001b[0m\n\u001b[1;32m    730\u001b[0m \u001b[0;34m\u001b[0m\u001b[0m\n\u001b[0;32m--> 731\u001b[0;31m         return HTTPTransport(\n\u001b[0m\u001b[1;32m    732\u001b[0m             \u001b[0mverify\u001b[0m\u001b[0;34m=\u001b[0m\u001b[0mverify\u001b[0m\u001b[0;34m,\u001b[0m\u001b[0;34m\u001b[0m\u001b[0;34m\u001b[0m\u001b[0m\n\u001b[1;32m    733\u001b[0m             \u001b[0mcert\u001b[0m\u001b[0;34m=\u001b[0m\u001b[0mcert\u001b[0m\u001b[0;34m,\u001b[0m\u001b[0;34m\u001b[0m\u001b[0;34m\u001b[0m\u001b[0m\n",
            "\u001b[0;32m/usr/local/lib/python3.12/dist-packages/httpx/_transports/default.py\u001b[0m in \u001b[0;36m__init__\u001b[0;34m(self, verify, cert, trust_env, http1, http2, limits, proxy, uds, local_address, retries, socket_options)\u001b[0m\n\u001b[1;32m    151\u001b[0m \u001b[0;34m\u001b[0m\u001b[0m\n\u001b[1;32m    152\u001b[0m         \u001b[0mproxy\u001b[0m \u001b[0;34m=\u001b[0m \u001b[0mProxy\u001b[0m\u001b[0;34m(\u001b[0m\u001b[0murl\u001b[0m\u001b[0;34m=\u001b[0m\u001b[0mproxy\u001b[0m\u001b[0;34m)\u001b[0m \u001b[0;32mif\u001b[0m \u001b[0misinstance\u001b[0m\u001b[0;34m(\u001b[0m\u001b[0mproxy\u001b[0m\u001b[0;34m,\u001b[0m \u001b[0;34m(\u001b[0m\u001b[0mstr\u001b[0m\u001b[0;34m,\u001b[0m \u001b[0mURL\u001b[0m\u001b[0;34m)\u001b[0m\u001b[0;34m)\u001b[0m \u001b[0;32melse\u001b[0m \u001b[0mproxy\u001b[0m\u001b[0;34m\u001b[0m\u001b[0;34m\u001b[0m\u001b[0m\n\u001b[0;32m--> 153\u001b[0;31m         \u001b[0mssl_context\u001b[0m \u001b[0;34m=\u001b[0m \u001b[0mcreate_ssl_context\u001b[0m\u001b[0;34m(\u001b[0m\u001b[0mverify\u001b[0m\u001b[0;34m=\u001b[0m\u001b[0mverify\u001b[0m\u001b[0;34m,\u001b[0m \u001b[0mcert\u001b[0m\u001b[0;34m=\u001b[0m\u001b[0mcert\u001b[0m\u001b[0;34m,\u001b[0m \u001b[0mtrust_env\u001b[0m\u001b[0;34m=\u001b[0m\u001b[0mtrust_env\u001b[0m\u001b[0;34m)\u001b[0m\u001b[0;34m\u001b[0m\u001b[0;34m\u001b[0m\u001b[0m\n\u001b[0m\u001b[1;32m    154\u001b[0m \u001b[0;34m\u001b[0m\u001b[0m\n\u001b[1;32m    155\u001b[0m         \u001b[0;32mif\u001b[0m \u001b[0mproxy\u001b[0m \u001b[0;32mis\u001b[0m \u001b[0;32mNone\u001b[0m\u001b[0;34m:\u001b[0m\u001b[0;34m\u001b[0m\u001b[0;34m\u001b[0m\u001b[0m\n",
            "\u001b[0;32m/usr/local/lib/python3.12/dist-packages/httpx/_config.py\u001b[0m in \u001b[0;36mcreate_ssl_context\u001b[0;34m(verify, cert, trust_env)\u001b[0m\n\u001b[1;32m     38\u001b[0m         \u001b[0;32melse\u001b[0m\u001b[0;34m:\u001b[0m\u001b[0;34m\u001b[0m\u001b[0;34m\u001b[0m\u001b[0m\n\u001b[1;32m     39\u001b[0m             \u001b[0;31m# Default case...\u001b[0m\u001b[0;34m\u001b[0m\u001b[0;34m\u001b[0m\u001b[0m\n\u001b[0;32m---> 40\u001b[0;31m             \u001b[0mctx\u001b[0m \u001b[0;34m=\u001b[0m \u001b[0mssl\u001b[0m\u001b[0;34m.\u001b[0m\u001b[0mcreate_default_context\u001b[0m\u001b[0;34m(\u001b[0m\u001b[0mcafile\u001b[0m\u001b[0;34m=\u001b[0m\u001b[0mcertifi\u001b[0m\u001b[0;34m.\u001b[0m\u001b[0mwhere\u001b[0m\u001b[0;34m(\u001b[0m\u001b[0;34m)\u001b[0m\u001b[0;34m)\u001b[0m\u001b[0;34m\u001b[0m\u001b[0;34m\u001b[0m\u001b[0m\n\u001b[0m\u001b[1;32m     41\u001b[0m     \u001b[0;32melif\u001b[0m \u001b[0mverify\u001b[0m \u001b[0;32mis\u001b[0m \u001b[0;32mFalse\u001b[0m\u001b[0;34m:\u001b[0m\u001b[0;34m\u001b[0m\u001b[0;34m\u001b[0m\u001b[0m\n\u001b[1;32m     42\u001b[0m         \u001b[0mctx\u001b[0m \u001b[0;34m=\u001b[0m \u001b[0mssl\u001b[0m\u001b[0;34m.\u001b[0m\u001b[0mSSLContext\u001b[0m\u001b[0;34m(\u001b[0m\u001b[0mssl\u001b[0m\u001b[0;34m.\u001b[0m\u001b[0mPROTOCOL_TLS_CLIENT\u001b[0m\u001b[0;34m)\u001b[0m\u001b[0;34m\u001b[0m\u001b[0;34m\u001b[0m\u001b[0m\n",
            "\u001b[0;32m/usr/lib/python3.12/ssl.py\u001b[0m in \u001b[0;36mcreate_default_context\u001b[0;34m(purpose, cafile, capath, cadata)\u001b[0m\n\u001b[1;32m    705\u001b[0m \u001b[0;34m\u001b[0m\u001b[0m\n\u001b[1;32m    706\u001b[0m     \u001b[0;32mif\u001b[0m \u001b[0mcafile\u001b[0m \u001b[0;32mor\u001b[0m \u001b[0mcapath\u001b[0m \u001b[0;32mor\u001b[0m \u001b[0mcadata\u001b[0m\u001b[0;34m:\u001b[0m\u001b[0;34m\u001b[0m\u001b[0;34m\u001b[0m\u001b[0m\n\u001b[0;32m--> 707\u001b[0;31m         \u001b[0mcontext\u001b[0m\u001b[0;34m.\u001b[0m\u001b[0mload_verify_locations\u001b[0m\u001b[0;34m(\u001b[0m\u001b[0mcafile\u001b[0m\u001b[0;34m,\u001b[0m \u001b[0mcapath\u001b[0m\u001b[0;34m,\u001b[0m \u001b[0mcadata\u001b[0m\u001b[0;34m)\u001b[0m\u001b[0;34m\u001b[0m\u001b[0;34m\u001b[0m\u001b[0m\n\u001b[0m\u001b[1;32m    708\u001b[0m     \u001b[0;32melif\u001b[0m \u001b[0mcontext\u001b[0m\u001b[0;34m.\u001b[0m\u001b[0mverify_mode\u001b[0m \u001b[0;34m!=\u001b[0m \u001b[0mCERT_NONE\u001b[0m\u001b[0;34m:\u001b[0m\u001b[0;34m\u001b[0m\u001b[0;34m\u001b[0m\u001b[0m\n\u001b[1;32m    709\u001b[0m         \u001b[0;31m# no explicit cafile, capath or cadata but the verify mode is\u001b[0m\u001b[0;34m\u001b[0m\u001b[0;34m\u001b[0m\u001b[0m\n",
            "\u001b[0;31mKeyboardInterrupt\u001b[0m: "
          ]
        }
      ]
    }
  ]
}