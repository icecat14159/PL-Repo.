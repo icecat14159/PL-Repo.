{
  "nbformat": 4,
  "nbformat_minor": 0,
  "metadata": {
    "colab": {
      "provenance": [],
      "authorship_tag": "ABX9TyOiAeMwUEMHToAYXCe3aodi",
      "include_colab_link": true
    },
    "kernelspec": {
      "name": "python3",
      "display_name": "Python 3"
    },
    "language_info": {
      "name": "python"
    }
  },
  "cells": [
    {
      "cell_type": "markdown",
      "metadata": {
        "id": "view-in-github",
        "colab_type": "text"
      },
      "source": [
        "<a href=\"https://colab.research.google.com/github/icecat14159/PL-Repo./blob/main/HW04_%E7%B6%B2%E9%A0%81%E7%88%AC%E8%9F%B2.ipynb\" target=\"_parent\"><img src=\"https://colab.research.google.com/assets/colab-badge.svg\" alt=\"Open In Colab\"/></a>"
      ]
    },
    {
      "cell_type": "code",
      "source": [
        "import requests\n",
        "from bs4 import BeautifulSoup\n",
        "\n",
        "# 不含 page 參數的主網址\n",
        "# 原始網址: https://forum.gamer.com.tw/C.php?page=1&bsn=33651&snA=8402&tnum=27&bPage=2\n",
        "# 從網址結構來看，page 參數應該是控制文章列表的頁數，而不是單一文章內的樓層。\n",
        "# 要抓取單一文章的樓層，可能需要分析該文章頁面的結構，通常樓層會有特定的 class 或 id。\n",
        "# 觀察提供的網址，它已經包含了 bPage=2 這個參數，可能就是控制樓層頁數的。\n",
        "# 我們可以嘗試移除 page=1 這個參數，並讓 bPage 參數來控制頁數。\n",
        "\n",
        "base_url = \"https://forum.gamer.com.tw/C.php?bsn=33651&snA=8402&tnum=27\"\n",
        "\n",
        "headers = {\n",
        "    \"User-Agent\": \"Mozilla/5.0 (Windows NT 10.0; Win64; x64) \"\n",
        "                  \"AppleWebKit/537.36 (KHTML, like Gecko) \"\n",
        "                  \"Chrome/118.0.5993.90 Safari/537.36\",\n",
        "    \"Accept-Language\": \"zh-TW,zh;q=0.9,en-US;q=0.8,en;q=0.7\"\n",
        "}\n",
        "\n",
        "all_posts = []\n",
        "total_pages = 2  # 可依實際頁數調整，根據 bPage 參數來判斷\n",
        "\n",
        "for page_num in range(1, total_pages + 1):\n",
        "    # 這裡使用 bPage 參數來控制樓層頁數\n",
        "    url = f\"{base_url}&bPage={page_num}\"\n",
        "    print(f\"正在抓取網址: {url}\") # 加入print檢查抓取的網址\n",
        "    res = requests.get(url, headers=headers)\n",
        "    res.encoding = \"utf-8\"\n",
        "    soup = BeautifulSoup(res.text, \"html.parser\")\n",
        "\n",
        "    # 嘗試抓樓層內容（新版巴哈用 class=\"c-article__content\" 或 \"c-article__content-inner\"）\n",
        "    # 經過檢查網頁原始碼，文章內容的 class 確實是 c-article__content 或 c-article__content-inner\n",
        "    # 但可能需要更精確的選擇器來排除其他非文章樓層的內容。\n",
        "    # 我們可以檢查每個找到的元素是否確實是文章樓層。\n",
        "    posts = soup.select(\"div.c-article__content, div.c-article__content-inner\")\n",
        "\n",
        "    # 過濾掉可能是廣告或其他非文章內容的區塊 (如果需要)\n",
        "    # 例如，可以檢查父元素是否有特定的 class 來判斷是否是文章樓層\n",
        "    # 這裡暫時不加過濾，先看抓取結果\n",
        "\n",
        "    all_posts.extend([post for post in posts if post.get_text(strip=True)]) #只加入非空內容\n",
        "    print(f\"已從第 {page_num} 頁抓取到 {len(posts)} 個可能的文章區塊。\") # 修改print訊息\n",
        "\n",
        "print(f\"總共抓取到 {len(all_posts)} 篇文章。\")"
      ],
      "metadata": {
        "colab": {
          "base_uri": "https://localhost:8080/"
        },
        "id": "HZJZIFdlsOZI",
        "outputId": "db30b69c-b7b9-40c8-f98a-1055f5199984"
      },
      "execution_count": 97,
      "outputs": [
        {
          "output_type": "stream",
          "name": "stdout",
          "text": [
            "正在抓取網址: https://forum.gamer.com.tw/C.php?bsn=33651&snA=8402&tnum=27&bPage=1\n",
            "已從第 1 頁抓取到 0 個可能的文章區塊。\n",
            "正在抓取網址: https://forum.gamer.com.tw/C.php?bsn=33651&snA=8402&tnum=27&bPage=2\n",
            "已從第 2 頁抓取到 0 個可能的文章區塊。\n",
            "總共抓取到 0 篇文章。\n"
          ]
        }
      ]
    },
    {
      "cell_type": "code",
      "source": [
        "!pip install gspread\n",
        "from google.colab import auth\n",
        "import gspread\n",
        "from google.auth import default\n",
        "\n",
        "auth.authenticate_user()\n",
        "creds, _ = default()\n",
        "gc = gspread.authorize(creds)\n",
        "\n",
        "# 連結你的試算表\n",
        "sheet_url = \"https://docs.google.com/spreadsheets/d/1MMbLQMGk0ZqohkZP-n5TTVvPfH4xwU5COzOUtABdVKY/edit?usp=sharing\"\n",
        "sh = gc.open_by_url(sheet_url)\n",
        "ws = sh.sheet1"
      ],
      "metadata": {
        "colab": {
          "base_uri": "https://localhost:8080/"
        },
        "id": "M998hVw2Aqlq",
        "outputId": "edef7a6c-7cbf-4037-d206-9dcdd287aa5d"
      },
      "execution_count": null,
      "outputs": [
        {
          "output_type": "stream",
          "name": "stdout",
          "text": [
            "Requirement already satisfied: gspread in /usr/local/lib/python3.12/dist-packages (6.2.1)\n",
            "Requirement already satisfied: google-auth>=1.12.0 in /usr/local/lib/python3.12/dist-packages (from gspread) (2.38.0)\n",
            "Requirement already satisfied: google-auth-oauthlib>=0.4.1 in /usr/local/lib/python3.12/dist-packages (from gspread) (1.2.2)\n",
            "Requirement already satisfied: cachetools<6.0,>=2.0.0 in /usr/local/lib/python3.12/dist-packages (from google-auth>=1.12.0->gspread) (5.5.2)\n",
            "Requirement already satisfied: pyasn1-modules>=0.2.1 in /usr/local/lib/python3.12/dist-packages (from google-auth>=1.12.0->gspread) (0.4.2)\n",
            "Requirement already satisfied: rsa<5,>=3.1.4 in /usr/local/lib/python3.12/dist-packages (from google-auth>=1.12.0->gspread) (4.9.1)\n",
            "Requirement already satisfied: requests-oauthlib>=0.7.0 in /usr/local/lib/python3.12/dist-packages (from google-auth-oauthlib>=0.4.1->gspread) (2.0.0)\n",
            "Requirement already satisfied: pyasn1<0.7.0,>=0.6.1 in /usr/local/lib/python3.12/dist-packages (from pyasn1-modules>=0.2.1->google-auth>=1.12.0->gspread) (0.6.1)\n",
            "Requirement already satisfied: oauthlib>=3.0.0 in /usr/local/lib/python3.12/dist-packages (from requests-oauthlib>=0.7.0->google-auth-oauthlib>=0.4.1->gspread) (3.3.1)\n",
            "Requirement already satisfied: requests>=2.0.0 in /usr/local/lib/python3.12/dist-packages (from requests-oauthlib>=0.7.0->google-auth-oauthlib>=0.4.1->gspread) (2.32.4)\n",
            "Requirement already satisfied: charset_normalizer<4,>=2 in /usr/local/lib/python3.12/dist-packages (from requests>=2.0.0->requests-oauthlib>=0.7.0->google-auth-oauthlib>=0.4.1->gspread) (3.4.4)\n",
            "Requirement already satisfied: idna<4,>=2.5 in /usr/local/lib/python3.12/dist-packages (from requests>=2.0.0->requests-oauthlib>=0.7.0->google-auth-oauthlib>=0.4.1->gspread) (3.11)\n",
            "Requirement already satisfied: urllib3<3,>=1.21.1 in /usr/local/lib/python3.12/dist-packages (from requests>=2.0.0->requests-oauthlib>=0.7.0->google-auth-oauthlib>=0.4.1->gspread) (2.5.0)\n",
            "Requirement already satisfied: certifi>=2017.4.17 in /usr/local/lib/python3.12/dist-packages (from requests>=2.0.0->requests-oauthlib>=0.7.0->google-auth-oauthlib>=0.4.1->gspread) (2025.10.5)\n"
          ]
        }
      ]
    },
    {
      "cell_type": "code",
      "metadata": {
        "colab": {
          "base_uri": "https://localhost:8080/"
        },
        "id": "ead50636",
        "outputId": "e6af7bed-04cb-4fb4-adaf-27406b373429"
      },
      "source": [
        "# 确保 posts 变量包含您要写入的数据\n",
        "# posts = soup.select(\"div.c-article__content\") # 假设 posts 变量已经从之前的步骤中获取\n",
        "\n",
        "# 准备要写入的数据\n",
        "data_to_write = []\n",
        "# 修改这里，使用 all_posts 变量\n",
        "for i, post in enumerate(all_posts, start=1):\n",
        "    content = post.get_text(strip=True)\n",
        "    data_to_write.append([f\"第{i}樓文章：\", content])\n",
        "\n",
        "# 将数据写入 Google Sheet\n",
        "# 从第2行开始写入数据，因为第一行可能是标题\n",
        "start_row = 2\n",
        "for row_index, row_data in enumerate(data_to_write):\n",
        "    # 计算当前行号\n",
        "    current_row = start_row + row_index\n",
        "    # 更新整行数据\n",
        "    ws.update(range_name=f'A{current_row}:B{current_row}', values=[row_data])\n",
        "\n",
        "print(\"数据已成功写入 Google Sheet！\")"
      ],
      "execution_count": null,
      "outputs": [
        {
          "output_type": "stream",
          "name": "stdout",
          "text": [
            "数据已成功写入 Google Sheet！\n"
          ]
        }
      ]
    },
    {
      "cell_type": "code",
      "source": [
        "# ---------------- Gemini 設定 ----------------\n",
        "from google.colab import userdata\n",
        "import google.generativeai as genai # 导入 genai 库\n",
        "GOOGLE_API_KEY = userdata.get('GOOGLE_API_KEY')\n",
        "genai.configure(api_key=GOOGLE_API_KEY)\n",
        "gemini_model = genai.GenerativeModel('models/gemini-flash-latest')"
      ],
      "metadata": {
        "id": "2vy1y-IqKe0E"
      },
      "execution_count": null,
      "outputs": []
    },
    {
      "cell_type": "code",
      "metadata": {
        "colab": {
          "base_uri": "https://localhost:8080/"
        },
        "id": "72ce31df",
        "outputId": "dde9553d-8b56-47d5-979e-d7df415d1811"
      },
      "source": [
        "# Select the first worksheet\n",
        "worksheet1 = sh.sheet1\n",
        "\n",
        "# Read all data from the worksheet\n",
        "all_data = worksheet1.get_all_values()\n",
        "\n",
        "# Remove the header row assuming the first row is the header\n",
        "if all_data:\n",
        "    all_data = all_data[1:]\n",
        "\n",
        "print(f\"Successfully read {len(all_data)} rows of data from the worksheet.\")"
      ],
      "execution_count": null,
      "outputs": [
        {
          "output_type": "stream",
          "name": "stdout",
          "text": [
            "Successfully read 25 rows of data from the worksheet.\n"
          ]
        }
      ]
    },
    {
      "cell_type": "code",
      "metadata": {
        "colab": {
          "base_uri": "https://localhost:8080/"
        },
        "id": "b9420397",
        "outputId": "149e84a8-192e-41d5-bdb6-0b20dd47f833"
      },
      "source": [
        "prompt_prefix = \"以下是攻略網站底下的各樓文章內容，請給我5句洞察摘要以及一段120字的總結\\n\\n\"\n",
        "combined_articles = \"\"\n",
        "\n",
        "for row in all_data:\n",
        "  # Assuming the article content is in the second column (index 1)\n",
        "  if len(row) > 1:\n",
        "    combined_articles += row[1] + \"\\n---\\n\" # Add a separator\n",
        "\n",
        "gemini_input = prompt_prefix + combined_articles\n",
        "\n",
        "print(\"Combined articles and prompt prefix created.\")"
      ],
      "execution_count": null,
      "outputs": [
        {
          "output_type": "stream",
          "name": "stdout",
          "text": [
            "Combined articles and prompt prefix created.\n"
          ]
        }
      ]
    },
    {
      "cell_type": "code",
      "metadata": {
        "colab": {
          "base_uri": "https://localhost:8080/",
          "height": 34
        },
        "id": "91d5ed6a",
        "outputId": "3049d11c-6e75-48f3-b852-6fd3b193e320"
      },
      "source": [
        "try:\n",
        "    gemini_response = gemini_model.generate_content(gemini_input)\n",
        "    print(\"Gemini API call successful.\")\n",
        "except Exception as e:\n",
        "    print(f\"Error calling Gemini API: {e}\")\n",
        "    gemini_response = None # Set response to None in case of error"
      ],
      "execution_count": null,
      "outputs": [
        {
          "output_type": "stream",
          "name": "stdout",
          "text": [
            "Gemini API call successful.\n"
          ]
        }
      ]
    },
    {
      "cell_type": "code",
      "metadata": {
        "colab": {
          "base_uri": "https://localhost:8080/"
        },
        "id": "6f78e3f0",
        "outputId": "1fa54670-df19-4a60-f656-11af01d4f26b"
      },
      "source": [
        "if gemini_response:\n",
        "  response_text = gemini_response.text\n",
        "\n",
        "  # Assuming Gemini separates the sections with specific markers or headings.\n",
        "  # This is a placeholder and needs to be adjusted based on actual Gemini output format.\n",
        "  # For example, if Gemini uses \"洞察摘要:\" and \"总结:\"\n",
        "  insight_marker = \"洞察摘要:\"\n",
        "  summary_marker = \"总结:\"\n",
        "\n",
        "  insight_summary = \"\"\n",
        "  overall_summary = \"\"\n",
        "\n",
        "  if insight_marker in response_text:\n",
        "      insight_start = response_text.find(insight_marker) + len(insight_marker)\n",
        "      if summary_marker in response_text:\n",
        "          summary_start = response_text.find(summary_marker)\n",
        "          insight_summary = response_text[insight_start:summary_start].strip()\n",
        "          overall_summary = response_text[summary_start + len(summary_marker):].strip()\n",
        "      else:\n",
        "          # If no summary marker, assume the rest is insight summary\n",
        "          insight_summary = response_text[insight_start:].strip()\n",
        "  elif summary_marker in response_text:\n",
        "      # If no insight marker, assume the rest is overall summary\n",
        "      overall_summary = response_text[response_text.find(summary_marker) + len(summary_marker):].strip()\n",
        "  else:\n",
        "      # If no markers found, treat the whole response as overall summary\n",
        "      overall_summary = response_text.strip()\n",
        "\n",
        "  print(\"Successfully extracted insight summary and overall summary.\")\n",
        "  print(\"Insight Summary:\", insight_summary)\n",
        "  print(\"Overall Summary:\", overall_summary)\n",
        "else:\n",
        "  print(\"No Gemini response available to extract summaries.\")"
      ],
      "execution_count": null,
      "outputs": [
        {
          "output_type": "stream",
          "name": "stdout",
          "text": [
            "Successfully extracted insight summary and overall summary.\n",
            "Insight Summary: \n",
            "Overall Summary: **5句洞察摘要**\n",
            "\n",
            "1. **極端困難與高挫折感：** 保全派駐初期設計極度硬核，要求無失敗通關長達兩小時才能獲得隱藏獎勵，導致玩家社群普遍認為其是耗費生命且設計不良的內容。\n",
            "2. **核心策略：牌組純化：** 成功依賴於精簡初始隊伍至單一輸出核心（如澄閃或鈴蘭）和低費輔助/零件，目的是在前期回合內快速疊滿核心幹員的五層戰術裝備。\n",
            "3. **主流核心角色確立：** 模式中最有效的核心幹員是能夠提供全圖法傷（澄閃）、極致緩速或永控（鈴蘭、靈知、異客）以及自我續航站場（泥岩、水月）的角色。\n",
            "4. **難度集中於後半段：** 流程的挑戰集中在LT-6、LT-7和LT-8，這些關卡要求嚴苛的火力檢定，並引入 Boss 專屬的牌組干擾或複雜的阻擋機制。\n",
            "5. **官方雖有改版但評價仍低：** 儘管官方持續透過增加新裝置、調整難度並最終加入掃蕩功能，試圖緩解痛苦，但模式的重複性和對特定高練度角色的依賴性，使多數玩家仍選擇直接抄襲攻略以快速完成任務。\n",
            "\n",
            "---\n",
            "\n",
            "**總結 (120字)**\n",
            "\n",
            "保全派駐因其初始的長時間、無失敗限制以及隱藏章獲取條件，被玩家視為一項高壓且耗時的挑戰。通關策略核心在於純化牌組，利用低費輔助迅速堆疊指定核心幹員（如澄閃、鈴蘭、泥岩）的戰術裝備。流程難點集中於後半段的火力檢定及Boss戰的牌組干擾機制。模式雖經歷多次更新，增加了多樣化裝置並最終提供掃蕩，但其本質上的重複作業感，導致玩家普遍採取抄作業的速通方式，以應付周期性開放的模組獎勵獲取需求。\n"
          ]
        }
      ]
    },
    {
      "cell_type": "code",
      "metadata": {
        "colab": {
          "base_uri": "https://localhost:8080/"
        },
        "id": "0c1409de",
        "outputId": "4156e58b-0680-47ae-ed32-9b5daf34a41d"
      },
      "source": [
        "# Select the second worksheet\n",
        "worksheet2 = sh.get_worksheet(1) # get_worksheet(1) gets the second worksheet (0-indexed)\n",
        "\n",
        "# Prepare the data to be written\n",
        "data_to_write_ws2 = [['洞察摘要', '总结'], [insight_summary, overall_summary]]\n",
        "\n",
        "# Clear any existing content in the second worksheet\n",
        "worksheet2.clear()\n",
        "\n",
        "# Write the prepared data to the second worksheet\n",
        "worksheet2.update(range_name='A1', values=data_to_write_ws2)\n",
        "\n",
        "print(\"数据已成功写入 Google Sheet 的工作表 2！\")"
      ],
      "execution_count": null,
      "outputs": [
        {
          "output_type": "stream",
          "name": "stdout",
          "text": [
            "数据已成功写入 Google Sheet 的工作表 2！\n"
          ]
        }
      ]
    },
    {
      "cell_type": "code",
      "source": [
        "# 安裝中文斷詞與TF-IDF套件\n",
        "!pip install jieba scikit-learn gspread oauth2client > /dev/null\n",
        "\n",
        "import jieba\n",
        "from sklearn.feature_extraction.text import TfidfVectorizer\n",
        "import gspread\n",
        "from google.colab import auth\n",
        "from google.auth import default\n",
        "\n",
        "# ==================== Google Sheet 驗證 ====================\n",
        "auth.authenticate_user()\n",
        "creds, _ = default()\n",
        "gc = gspread.authorize(creds)\n",
        "\n",
        "# 你的試算表網址\n",
        "sheet_url = \"https://docs.google.com/spreadsheets/d/1MMbLQMGk0ZqohkZP-n5TTVvPfH4xwU5COzOUtABdVKY/edit?usp=sharing\"\n",
        "sh = gc.open_by_url(sheet_url)\n",
        "\n",
        "worksheet1 = sh.worksheet(\"工作表1\")\n",
        "worksheet3 = sh.worksheet(\"工作表3\")\n",
        "\n",
        "# ==================== 中文斷詞 + TF-IDF 熱詞分析 ====================\n",
        "def tfidf_analysis_to_sheet(top_n=20):\n",
        "    \"\"\"\n",
        "    從工作表1的B欄讀取文章內容，進行TF-IDF分析，將結果寫入工作表3\n",
        "    top_n: 取前N個熱詞\n",
        "    \"\"\"\n",
        "    try:\n",
        "        # 1. 讀取工作表1所有資料\n",
        "        all_values = worksheet1.get_all_values()\n",
        "        if len(all_values) < 1:\n",
        "            return \"工作表1沒有資料可以分析。\"\n",
        "\n",
        "        # 2. 只取B欄（索引1）\n",
        "        texts = [row[1] for row in all_values if len(row) > 1 and row[1].strip()]\n",
        "        if not texts:\n",
        "            return \"文章內容為空，無法分析。\"\n",
        "\n",
        "        # 3. 中文斷詞處理\n",
        "        texts_cut = [\" \".join(jieba.cut(text)) for text in texts]\n",
        "\n",
        "        # 4. 使用 TF-IDF 計算\n",
        "        vectorizer = TfidfVectorizer(max_features=1000)\n",
        "        tfidf_matrix = vectorizer.fit_transform(texts_cut)\n",
        "        feature_names = vectorizer.get_feature_names_out()\n",
        "\n",
        "        # 5. 計算每個詞的總分\n",
        "        tfidf_sum = tfidf_matrix.sum(axis=0)\n",
        "        tfidf_scores = [(word, tfidf_sum[0, idx]) for idx, word in enumerate(feature_names)]\n",
        "        tfidf_scores.sort(key=lambda x: x[1], reverse=True)\n",
        "\n",
        "        # 6. 取前 N 熱詞\n",
        "        top_words = tfidf_scores[:top_n]\n",
        "\n",
        "        # 7. 寫入 Google Sheet 工作表3\n",
        "        worksheet3.clear()\n",
        "        worksheet3.append_row([\"詞語\", \"TF-IDF 分數\"])\n",
        "        for word, score in top_words:\n",
        "            worksheet3.append_row([word, round(float(score), 6)])\n",
        "\n",
        "        return f\"TF-IDF 熱詞分析完成，前 {top_n} 熱詞已寫入『工作表3』。\"\n",
        "\n",
        "    except Exception as e:\n",
        "        return f\"分析過程中發生錯誤: {e}\"\n",
        "\n",
        "# ==================== 執行分析 ====================\n",
        "print(tfidf_analysis_to_sheet(top_n=30))"
      ],
      "metadata": {
        "colab": {
          "base_uri": "https://localhost:8080/"
        },
        "id": "EHroovCJRhJ8",
        "outputId": "f915de28-fc84-4ad9-e927-3ac23c1f4923"
      },
      "execution_count": null,
      "outputs": [
        {
          "output_type": "stream",
          "name": "stderr",
          "text": [
            "/usr/local/lib/python3.12/dist-packages/jieba/__init__.py:44: SyntaxWarning: invalid escape sequence '\\.'\n",
            "  re_han_default = re.compile(\"([\\u4E00-\\u9FD5a-zA-Z0-9+#&\\._%\\-]+)\", re.U)\n",
            "/usr/local/lib/python3.12/dist-packages/jieba/__init__.py:46: SyntaxWarning: invalid escape sequence '\\s'\n",
            "  re_skip_default = re.compile(\"(\\r\\n|\\s)\", re.U)\n",
            "/usr/local/lib/python3.12/dist-packages/jieba/finalseg/__init__.py:78: SyntaxWarning: invalid escape sequence '\\.'\n",
            "  re_skip = re.compile(\"([a-zA-Z0-9]+(?:\\.\\d+)?%?)\")\n",
            "Building prefix dict from the default dictionary ...\n",
            "DEBUG:jieba:Building prefix dict from the default dictionary ...\n",
            "Dumping model to file cache /tmp/jieba.cache\n",
            "DEBUG:jieba:Dumping model to file cache /tmp/jieba.cache\n",
            "Loading model cost 0.838 seconds.\n",
            "DEBUG:jieba:Loading model cost 0.838 seconds.\n",
            "Prefix dict has been built successfully.\n",
            "DEBUG:jieba:Prefix dict has been built successfully.\n"
          ]
        },
        {
          "output_type": "stream",
          "name": "stdout",
          "text": [
            "TF-IDF 熱詞分析完成，前 30 熱詞已寫入『工作表3』。\n"
          ]
        }
      ]
    }
  ]
}