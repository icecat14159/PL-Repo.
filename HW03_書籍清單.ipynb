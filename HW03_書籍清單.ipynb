{
  "nbformat": 4,
  "nbformat_minor": 0,
  "metadata": {
    "colab": {
      "provenance": [],
      "authorship_tag": "ABX9TyNaICvI9sjJLtKD7MfMg5X6",
      "include_colab_link": true
    },
    "kernelspec": {
      "name": "python3",
      "display_name": "Python 3"
    },
    "language_info": {
      "name": "python"
    }
  },
  "cells": [
    {
      "cell_type": "markdown",
      "metadata": {
        "id": "view-in-github",
        "colab_type": "text"
      },
      "source": [
        "<a href=\"https://colab.research.google.com/github/icecat14159/PL-Repo./blob/main/HW03_%E6%9B%B8%E7%B1%8D%E6%B8%85%E5%96%AE.ipynb\" target=\"_parent\"><img src=\"https://colab.research.google.com/assets/colab-badge.svg\" alt=\"Open In Colab\"/></a>"
      ]
    },
    {
      "cell_type": "code",
      "source": [
        "!pip install gspread gradio pandas matplotlib\n",
        "from google.colab import auth\n",
        "import gspread\n",
        "from google.auth import default\n",
        "import pandas as pd\n",
        "import datetime\n",
        "import io\n",
        "import matplotlib.pyplot as plt\n",
        "import gradio as gr\n",
        "\n",
        "# 授權連線 Google Sheet\n",
        "auth.authenticate_user()\n",
        "creds, _ = default()\n",
        "gc = gspread.authorize(creds)\n",
        "\n",
        "# 連結你的試算表\n",
        "sheet_url = \"https://docs.google.com/spreadsheets/d/13aQbPbNl_6zg4D4RkmWfchPlcI1LXcGGTlELlG2b3h4/edit?usp=sharing\"\n",
        "sh = gc.open_by_url(sheet_url)\n",
        "worksheet = sh.sheet1"
      ],
      "metadata": {
        "colab": {
          "base_uri": "https://localhost:8080/"
        },
        "id": "Kl98iN1SVBWT",
        "outputId": "89d76759-1ced-4c8a-d146-3c7be8ba60b2"
      },
      "execution_count": 30,
      "outputs": [
        {
          "output_type": "stream",
          "name": "stdout",
          "text": [
            "Requirement already satisfied: gspread in /usr/local/lib/python3.12/dist-packages (6.2.1)\n",
            "Requirement already satisfied: gradio in /usr/local/lib/python3.12/dist-packages (5.49.1)\n",
            "Requirement already satisfied: pandas in /usr/local/lib/python3.12/dist-packages (2.2.2)\n",
            "Requirement already satisfied: matplotlib in /usr/local/lib/python3.12/dist-packages (3.10.0)\n",
            "Requirement already satisfied: google-auth>=1.12.0 in /usr/local/lib/python3.12/dist-packages (from gspread) (2.38.0)\n",
            "Requirement already satisfied: google-auth-oauthlib>=0.4.1 in /usr/local/lib/python3.12/dist-packages (from gspread) (1.2.2)\n",
            "Requirement already satisfied: aiofiles<25.0,>=22.0 in /usr/local/lib/python3.12/dist-packages (from gradio) (24.1.0)\n",
            "Requirement already satisfied: anyio<5.0,>=3.0 in /usr/local/lib/python3.12/dist-packages (from gradio) (4.11.0)\n",
            "Requirement already satisfied: brotli>=1.1.0 in /usr/local/lib/python3.12/dist-packages (from gradio) (1.1.0)\n",
            "Requirement already satisfied: fastapi<1.0,>=0.115.2 in /usr/local/lib/python3.12/dist-packages (from gradio) (0.119.1)\n",
            "Requirement already satisfied: ffmpy in /usr/local/lib/python3.12/dist-packages (from gradio) (0.6.3)\n",
            "Requirement already satisfied: gradio-client==1.13.3 in /usr/local/lib/python3.12/dist-packages (from gradio) (1.13.3)\n",
            "Requirement already satisfied: groovy~=0.1 in /usr/local/lib/python3.12/dist-packages (from gradio) (0.1.2)\n",
            "Requirement already satisfied: httpx<1.0,>=0.24.1 in /usr/local/lib/python3.12/dist-packages (from gradio) (0.28.1)\n",
            "Requirement already satisfied: huggingface-hub<2.0,>=0.33.5 in /usr/local/lib/python3.12/dist-packages (from gradio) (0.35.3)\n",
            "Requirement already satisfied: jinja2<4.0 in /usr/local/lib/python3.12/dist-packages (from gradio) (3.1.6)\n",
            "Requirement already satisfied: markupsafe<4.0,>=2.0 in /usr/local/lib/python3.12/dist-packages (from gradio) (3.0.3)\n",
            "Requirement already satisfied: numpy<3.0,>=1.0 in /usr/local/lib/python3.12/dist-packages (from gradio) (2.0.2)\n",
            "Requirement already satisfied: orjson~=3.0 in /usr/local/lib/python3.12/dist-packages (from gradio) (3.11.3)\n",
            "Requirement already satisfied: packaging in /usr/local/lib/python3.12/dist-packages (from gradio) (25.0)\n",
            "Requirement already satisfied: pillow<12.0,>=8.0 in /usr/local/lib/python3.12/dist-packages (from gradio) (11.3.0)\n",
            "Requirement already satisfied: pydantic<2.12,>=2.0 in /usr/local/lib/python3.12/dist-packages (from gradio) (2.11.10)\n",
            "Requirement already satisfied: pydub in /usr/local/lib/python3.12/dist-packages (from gradio) (0.25.1)\n",
            "Requirement already satisfied: python-multipart>=0.0.18 in /usr/local/lib/python3.12/dist-packages (from gradio) (0.0.20)\n",
            "Requirement already satisfied: pyyaml<7.0,>=5.0 in /usr/local/lib/python3.12/dist-packages (from gradio) (6.0.3)\n",
            "Requirement already satisfied: ruff>=0.9.3 in /usr/local/lib/python3.12/dist-packages (from gradio) (0.14.1)\n",
            "Requirement already satisfied: safehttpx<0.2.0,>=0.1.6 in /usr/local/lib/python3.12/dist-packages (from gradio) (0.1.6)\n",
            "Requirement already satisfied: semantic-version~=2.0 in /usr/local/lib/python3.12/dist-packages (from gradio) (2.10.0)\n",
            "Requirement already satisfied: starlette<1.0,>=0.40.0 in /usr/local/lib/python3.12/dist-packages (from gradio) (0.48.0)\n",
            "Requirement already satisfied: tomlkit<0.14.0,>=0.12.0 in /usr/local/lib/python3.12/dist-packages (from gradio) (0.13.3)\n",
            "Requirement already satisfied: typer<1.0,>=0.12 in /usr/local/lib/python3.12/dist-packages (from gradio) (0.20.0)\n",
            "Requirement already satisfied: typing-extensions~=4.0 in /usr/local/lib/python3.12/dist-packages (from gradio) (4.15.0)\n",
            "Requirement already satisfied: uvicorn>=0.14.0 in /usr/local/lib/python3.12/dist-packages (from gradio) (0.38.0)\n",
            "Requirement already satisfied: fsspec in /usr/local/lib/python3.12/dist-packages (from gradio-client==1.13.3->gradio) (2025.3.0)\n",
            "Requirement already satisfied: websockets<16.0,>=13.0 in /usr/local/lib/python3.12/dist-packages (from gradio-client==1.13.3->gradio) (15.0.1)\n",
            "Requirement already satisfied: python-dateutil>=2.8.2 in /usr/local/lib/python3.12/dist-packages (from pandas) (2.9.0.post0)\n",
            "Requirement already satisfied: pytz>=2020.1 in /usr/local/lib/python3.12/dist-packages (from pandas) (2025.2)\n",
            "Requirement already satisfied: tzdata>=2022.7 in /usr/local/lib/python3.12/dist-packages (from pandas) (2025.2)\n",
            "Requirement already satisfied: contourpy>=1.0.1 in /usr/local/lib/python3.12/dist-packages (from matplotlib) (1.3.3)\n",
            "Requirement already satisfied: cycler>=0.10 in /usr/local/lib/python3.12/dist-packages (from matplotlib) (0.12.1)\n",
            "Requirement already satisfied: fonttools>=4.22.0 in /usr/local/lib/python3.12/dist-packages (from matplotlib) (4.60.1)\n",
            "Requirement already satisfied: kiwisolver>=1.3.1 in /usr/local/lib/python3.12/dist-packages (from matplotlib) (1.4.9)\n",
            "Requirement already satisfied: pyparsing>=2.3.1 in /usr/local/lib/python3.12/dist-packages (from matplotlib) (3.2.5)\n",
            "Requirement already satisfied: idna>=2.8 in /usr/local/lib/python3.12/dist-packages (from anyio<5.0,>=3.0->gradio) (3.11)\n",
            "Requirement already satisfied: sniffio>=1.1 in /usr/local/lib/python3.12/dist-packages (from anyio<5.0,>=3.0->gradio) (1.3.1)\n",
            "Requirement already satisfied: cachetools<6.0,>=2.0.0 in /usr/local/lib/python3.12/dist-packages (from google-auth>=1.12.0->gspread) (5.5.2)\n",
            "Requirement already satisfied: pyasn1-modules>=0.2.1 in /usr/local/lib/python3.12/dist-packages (from google-auth>=1.12.0->gspread) (0.4.2)\n",
            "Requirement already satisfied: rsa<5,>=3.1.4 in /usr/local/lib/python3.12/dist-packages (from google-auth>=1.12.0->gspread) (4.9.1)\n",
            "Requirement already satisfied: requests-oauthlib>=0.7.0 in /usr/local/lib/python3.12/dist-packages (from google-auth-oauthlib>=0.4.1->gspread) (2.0.0)\n",
            "Requirement already satisfied: certifi in /usr/local/lib/python3.12/dist-packages (from httpx<1.0,>=0.24.1->gradio) (2025.10.5)\n",
            "Requirement already satisfied: httpcore==1.* in /usr/local/lib/python3.12/dist-packages (from httpx<1.0,>=0.24.1->gradio) (1.0.9)\n",
            "Requirement already satisfied: h11>=0.16 in /usr/local/lib/python3.12/dist-packages (from httpcore==1.*->httpx<1.0,>=0.24.1->gradio) (0.16.0)\n",
            "Requirement already satisfied: filelock in /usr/local/lib/python3.12/dist-packages (from huggingface-hub<2.0,>=0.33.5->gradio) (3.20.0)\n",
            "Requirement already satisfied: requests in /usr/local/lib/python3.12/dist-packages (from huggingface-hub<2.0,>=0.33.5->gradio) (2.32.4)\n",
            "Requirement already satisfied: tqdm>=4.42.1 in /usr/local/lib/python3.12/dist-packages (from huggingface-hub<2.0,>=0.33.5->gradio) (4.67.1)\n",
            "Requirement already satisfied: hf-xet<2.0.0,>=1.1.3 in /usr/local/lib/python3.12/dist-packages (from huggingface-hub<2.0,>=0.33.5->gradio) (1.1.10)\n",
            "Requirement already satisfied: annotated-types>=0.6.0 in /usr/local/lib/python3.12/dist-packages (from pydantic<2.12,>=2.0->gradio) (0.7.0)\n",
            "Requirement already satisfied: pydantic-core==2.33.2 in /usr/local/lib/python3.12/dist-packages (from pydantic<2.12,>=2.0->gradio) (2.33.2)\n",
            "Requirement already satisfied: typing-inspection>=0.4.0 in /usr/local/lib/python3.12/dist-packages (from pydantic<2.12,>=2.0->gradio) (0.4.2)\n",
            "Requirement already satisfied: six>=1.5 in /usr/local/lib/python3.12/dist-packages (from python-dateutil>=2.8.2->pandas) (1.17.0)\n",
            "Requirement already satisfied: click>=8.0.0 in /usr/local/lib/python3.12/dist-packages (from typer<1.0,>=0.12->gradio) (8.3.0)\n",
            "Requirement already satisfied: shellingham>=1.3.0 in /usr/local/lib/python3.12/dist-packages (from typer<1.0,>=0.12->gradio) (1.5.4)\n",
            "Requirement already satisfied: rich>=10.11.0 in /usr/local/lib/python3.12/dist-packages (from typer<1.0,>=0.12->gradio) (13.9.4)\n",
            "Requirement already satisfied: pyasn1<0.7.0,>=0.6.1 in /usr/local/lib/python3.12/dist-packages (from pyasn1-modules>=0.2.1->google-auth>=1.12.0->gspread) (0.6.1)\n",
            "Requirement already satisfied: oauthlib>=3.0.0 in /usr/local/lib/python3.12/dist-packages (from requests-oauthlib>=0.7.0->google-auth-oauthlib>=0.4.1->gspread) (3.3.1)\n",
            "Requirement already satisfied: charset_normalizer<4,>=2 in /usr/local/lib/python3.12/dist-packages (from requests->huggingface-hub<2.0,>=0.33.5->gradio) (3.4.4)\n",
            "Requirement already satisfied: urllib3<3,>=1.21.1 in /usr/local/lib/python3.12/dist-packages (from requests->huggingface-hub<2.0,>=0.33.5->gradio) (2.5.0)\n",
            "Requirement already satisfied: markdown-it-py>=2.2.0 in /usr/local/lib/python3.12/dist-packages (from rich>=10.11.0->typer<1.0,>=0.12->gradio) (4.0.0)\n",
            "Requirement already satisfied: pygments<3.0.0,>=2.13.0 in /usr/local/lib/python3.12/dist-packages (from rich>=10.11.0->typer<1.0,>=0.12->gradio) (2.19.2)\n",
            "Requirement already satisfied: mdurl~=0.1 in /usr/local/lib/python3.12/dist-packages (from markdown-it-py>=2.2.0->rich>=10.11.0->typer<1.0,>=0.12->gradio) (0.1.2)\n"
          ]
        }
      ]
    },
    {
      "cell_type": "code",
      "source": [
        "# 定義欄位名稱\n",
        "COLUMNS = [\"個人評級\", \"書籍名稱\", \"閱讀進度\", \"最後紀錄日期\", \"書籍類型\", \"相關作品\"]\n",
        "\n",
        "# 讀取 Google Sheet\n",
        "def read_data():\n",
        "    records = worksheet.get_all_records()\n",
        "    df = pd.DataFrame(records)\n",
        "    if df.empty:\n",
        "        df = pd.DataFrame(columns=COLUMNS)\n",
        "    return df\n",
        "\n",
        "# 寫回 Google Sheet\n",
        "def write_data(df):\n",
        "    worksheet.clear()\n",
        "    worksheet.append_row(COLUMNS)\n",
        "    worksheet.append_rows(df.values.tolist())"
      ],
      "metadata": {
        "id": "aXa-V_ROZ1Tu"
      },
      "execution_count": 31,
      "outputs": []
    },
    {
      "cell_type": "code",
      "source": [
        "# 新增書籍紀錄\n",
        "def add_record(rating, name, progress, date, genre, related):\n",
        "    df = read_data()\n",
        "    if not date:\n",
        "        date = datetime.date.today().strftime(\"%Y/%m/%d\")\n",
        "    new_entry = {\"個人評級\": rating, \"書籍名稱\": name, \"閱讀進度\": progress,\n",
        "                 \"最後紀錄日期\": date, \"書籍類型\": genre, \"相關作品\": related}\n",
        "    df = pd.concat([df, pd.DataFrame([new_entry])], ignore_index=True)\n",
        "    write_data(df)\n",
        "    return df\n",
        "\n",
        "# 修改紀錄\n",
        "def edit_record(index, rating, name, progress, date, genre, related):\n",
        "    df = read_data()\n",
        "    if index < 0 or index >= len(df):\n",
        "        return \"無效索引\"\n",
        "    df.loc[index] = [rating, name, progress, date, genre, related]\n",
        "    write_data(df)\n",
        "    return df\n",
        "\n",
        "# 刪除紀錄\n",
        "def delete_record(index):\n",
        "    df = read_data()\n",
        "    if index < 0 or index >= len(df):\n",
        "        return \"無效索引\"\n",
        "    df = df.drop(index).reset_index(drop=True)\n",
        "    write_data(df)\n",
        "    return df"
      ],
      "metadata": {
        "id": "UskRPL9PZ2vd"
      },
      "execution_count": 32,
      "outputs": []
    },
    {
      "cell_type": "code",
      "source": [
        "import base64\n",
        "# 匯出 CSV\n",
        "def export_csv():\n",
        "    df = read_data()\n",
        "    # 使用 utf-8-sig 可讓 Excel 正確讀中文\n",
        "    csv_data = df.to_csv(index=False, encoding=\"utf-8-sig\")\n",
        "    b64 = base64.b64encode(csv_data.encode(\"utf-8-sig\")).decode()\n",
        "    href = f'<a href=\"data:file/csv;base64,{b64}\" download=\"books.csv\">下載 CSV 檔案</a>'\n",
        "    return href\n",
        "\n",
        "# 匯出 JSON\n",
        "def export_json():\n",
        "    df = read_data()\n",
        "    json_data = df.to_json(orient=\"records\", force_ascii=False)\n",
        "    b64 = base64.b64encode(json_data.encode(\"utf-8\")).decode()\n",
        "    href = f'<a href=\"data:application/json;base64,{b64}\" download=\"books.json\">下載 JSON 檔案</a>'\n",
        "    return href\n",
        "\n",
        "# 匯入 CSV\n",
        "def import_csv(file):\n",
        "    df = pd.read_csv(file.name)\n",
        "    write_data(df)\n",
        "    return df\n",
        "\n",
        "# 匯入 JSON\n",
        "def import_json(file):\n",
        "    df = pd.read_json(file.name)\n",
        "    write_data(df)\n",
        "    return df"
      ],
      "metadata": {
        "id": "j54gQQRFZ4NM"
      },
      "execution_count": 48,
      "outputs": []
    },
    {
      "cell_type": "code",
      "source": [
        "export_csv()"
      ],
      "metadata": {
        "colab": {
          "base_uri": "https://localhost:8080/",
          "height": 88
        },
        "id": "Q2BiQmInkEJU",
        "outputId": "3e7cdd77-1afa-4918-c35c-927bc7978c0e"
      },
      "execution_count": 49,
      "outputs": [
        {
          "output_type": "execute_result",
          "data": {
            "text/plain": [
              "'<a href=\"data:file/csv;base64,77u/5YCL5Lq66KmV57SaLOabuOexjeWQjeeosSzplrHoroDpgLLluqYs5pyA5b6M57SA6YyE5pel5pyfLOabuOexjemhnuWeiyznm7jpl5zkvZzlk4EKUyzpgYrmiLLkurrnlJ8sMTIsMjAyNC8xMi8xMCzlsI/oqqosCkEs5LiN5q2j57aT55qE6a2U6KGT6Kyb5birLDIxLDIwMjUvMTAvOSzlsI/oqqosCkMs6Ieq56ix6LOi6ICF5byf5a2Q55qE6LOi6ICFLDE2LDIwMjUvMS8xLOWwj+iqqiwKUyzni7zoiIfovpvpppnmlpksMjAsMjAyNS8xMC8yNSzlsI/oqqosClMs6JGs6YCB6ICF56aP5Yip6IGvLDE0MiwyMDI1LzEwLzIwLOa8q+eVqywKUyznuL3kuYvlsLHmmK/pnZ7luLjlj6/mhJssMzE3LDIwMjUvNS84LOa8q+eVqywKQizku4Hnp5HnmoTnt6josqzlhpLpmqroqJgsMjUsMjAyNS81LzUs5ryr55WrLApBLOaVl+WMl+Wls+inkuWkquWkmuS6hiw4LDIwMjUtMTAtMjYs5bCP6KqqLAo=\" download=\"books.csv\">下載 CSV 檔案</a>'"
            ],
            "application/vnd.google.colaboratory.intrinsic+json": {
              "type": "string"
            }
          },
          "metadata": {},
          "execution_count": 49
        }
      ]
    },
    {
      "cell_type": "code",
      "source": [
        "def advanced_query(rating=None, start_date=None, end_date=None, genre=None):\n",
        "    df = read_data()\n",
        "    if rating:\n",
        "        df = df[df[\"個人評級\"] == rating]\n",
        "    if start_date:\n",
        "        df = df[df[\"最後紀錄日期\"] >= start_date]\n",
        "    if end_date:\n",
        "        df = df[df[\"最後紀錄日期\"] <= end_date]\n",
        "    if genre:\n",
        "        df = df[df[\"書籍類型\"].str.contains(genre, na=False)]\n",
        "    return df"
      ],
      "metadata": {
        "id": "OMLHzrV-Z7WD"
      },
      "execution_count": 35,
      "outputs": []
    },
    {
      "cell_type": "code",
      "source": [
        "def plot_stats():\n",
        "    df = read_data()\n",
        "    fig, ax = plt.subplots(1, 2, figsize=(10, 4))\n",
        "\n",
        "    # 評級統計\n",
        "    df[\"個人評級\"].value_counts().plot(kind='bar', ax=ax[0], title=\"依個人評級\")\n",
        "    # 類型統計\n",
        "    df[\"書籍類型\"].value_counts().plot(kind='bar', ax=ax[1], title=\"依書籍類型\")\n",
        "\n",
        "    plt.tight_layout()\n",
        "    return fig"
      ],
      "metadata": {
        "id": "KXsY6BVAaClA"
      },
      "execution_count": 36,
      "outputs": []
    },
    {
      "cell_type": "code",
      "source": [
        "def show_records():\n",
        "    return read_data()\n",
        "\n",
        "with gr.Blocks() as app:\n",
        "    gr.Markdown(\"## 書籍管理清單系統\")\n",
        "    with gr.Tab(\"目前紀錄\"):\n",
        "        refresh_btn = gr.Button(\"重新整理\")\n",
        "        table = gr.Dataframe(value=read_data(), headers=COLUMNS, interactive=False)\n",
        "        refresh_btn.click(fn=show_records, outputs=table)\n",
        "\n",
        "    with gr.Tab(\"新增紀錄\"):\n",
        "        rating = gr.Dropdown([\"S\",\"A\",\"B\",\"C\",\"D\",\"E\",\"F\"], label=\"個人評級\")\n",
        "        name = gr.Textbox(label=\"書籍名稱\")\n",
        "        progress = gr.Textbox(label=\"閱讀進度\")\n",
        "        date = gr.Textbox(label=\"最後紀錄日期 (可留空自動填)\")\n",
        "        genre = gr.Textbox(label=\"書籍類型\")\n",
        "        related = gr.Textbox(label=\"相關作品\")\n",
        "        add_btn = gr.Button(\"新增紀錄\")\n",
        "        output_add = gr.Dataframe()\n",
        "        add_btn.click(add_record, [rating,name,progress,date,genre,related], output_add)\n",
        "\n",
        "    with gr.Tab(\"修改紀錄\"):\n",
        "        idx = gr.Number(label=\"紀錄索引(從0開始)\")\n",
        "        rating_e = gr.Dropdown([\"S\",\"A\",\"B\",\"C\",\"D\",\"E\",\"F\"], label=\"個人評級\")\n",
        "        name_e = gr.Textbox(label=\"書籍名稱\")\n",
        "        progress_e = gr.Textbox(label=\"閱讀進度\")\n",
        "        date_e = gr.Textbox(label=\"最後紀錄日期\")\n",
        "        genre_e = gr.Textbox(label=\"書籍類型\")\n",
        "        related_e = gr.Textbox(label=\"相關作品\")\n",
        "        edit_btn = gr.Button(\"修改紀錄\")\n",
        "        output_edit = gr.Dataframe()\n",
        "        edit_btn.click(edit_record, [idx,rating_e,name_e,progress_e,date_e,genre_e,related_e], output_edit)\n",
        "\n",
        "    with gr.Tab(\"刪除紀錄\"):\n",
        "        del_idx = gr.Number(label=\"紀錄索引(從0開始)\")\n",
        "        del_btn = gr.Button(\"刪除\")\n",
        "        output_del = gr.Dataframe()\n",
        "        del_btn.click(delete_record, del_idx, output_del)\n",
        "\n",
        "    with gr.Tab(\"匯入/匯出\"):\n",
        "        csv_export = gr.Button(\"匯出CSV\")\n",
        "        json_export = gr.Button(\"匯出JSON\")\n",
        "        csv_import = gr.File(label=\"匯入CSV\")\n",
        "        json_import = gr.File(label=\"匯入JSON\")\n",
        "        out_csv = gr.HTML()\n",
        "        out_json = gr.HTML()\n",
        "        out_import = gr.Dataframe()\n",
        "        csv_export.click(export_csv, outputs=out_csv)\n",
        "        json_export.click(export_json, outputs=out_json)\n",
        "        csv_import.change(import_csv, inputs=csv_import, outputs=out_import)\n",
        "        json_import.change(import_json, inputs=json_import, outputs=out_import)\n",
        "\n",
        "    with gr.Tab(\"進階查詢\"):\n",
        "        q_rating = gr.Dropdown([\"\",\"S\",\"A\",\"B\",\"C\",\"D\",\"E\",\"F\"], label=\"評級\")\n",
        "        q_start = gr.Textbox(label=\"起始日期 (YYYY/MM/DD)\")\n",
        "        q_end = gr.Textbox(label=\"結束日期 (YYYY/MM/DD)\")\n",
        "        q_genre = gr.Textbox(label=\"書籍類型關鍵字\")\n",
        "        query_btn = gr.Button(\"查詢\")\n",
        "        query_out = gr.Dataframe()\n",
        "        query_btn.click(advanced_query, [q_rating,q_start,q_end,q_genre], query_out)\n",
        "\n",
        "    with gr.Tab(\"統計圖表\"):\n",
        "        chart_btn = gr.Button(\"產生圖表\")\n",
        "        chart_output = gr.Plot()\n",
        "        chart_btn.click(plot_stats, outputs=chart_output)\n",
        "\n",
        "app.launch()"
      ],
      "metadata": {
        "colab": {
          "base_uri": "https://localhost:8080/",
          "height": 646
        },
        "id": "gChRK-_vdRgD",
        "outputId": "7e412f47-b007-4f15-d1d8-bbe63f6ab06e"
      },
      "execution_count": 50,
      "outputs": [
        {
          "output_type": "stream",
          "name": "stdout",
          "text": [
            "It looks like you are running Gradio on a hosted Jupyter notebook, which requires `share=True`. Automatically setting `share=True` (you can turn this off by setting `share=False` in `launch()` explicitly).\n",
            "\n",
            "Colab notebook detected. To show errors in colab notebook, set debug=True in launch()\n",
            "* Running on public URL: https://50875f12cf0ef53ebf.gradio.live\n",
            "\n",
            "This share link expires in 1 week. For free permanent hosting and GPU upgrades, run `gradio deploy` from the terminal in the working directory to deploy to Hugging Face Spaces (https://huggingface.co/spaces)\n"
          ]
        },
        {
          "output_type": "display_data",
          "data": {
            "text/plain": [
              "<IPython.core.display.HTML object>"
            ],
            "text/html": [
              "<div><iframe src=\"https://50875f12cf0ef53ebf.gradio.live\" width=\"100%\" height=\"500\" allow=\"autoplay; camera; microphone; clipboard-read; clipboard-write;\" frameborder=\"0\" allowfullscreen></iframe></div>"
            ]
          },
          "metadata": {}
        },
        {
          "output_type": "execute_result",
          "data": {
            "text/plain": []
          },
          "metadata": {},
          "execution_count": 50
        }
      ]
    }
  ]
}